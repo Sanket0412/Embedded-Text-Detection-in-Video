{
  "nbformat": 4,
  "nbformat_minor": 0,
  "metadata": {
    "colab": {
      "name": "Embedded_Text_Detection.ipynb",
      "provenance": [],
      "collapsed_sections": [],
      "authorship_tag": "ABX9TyO08MCs8Lc4C/8N9EkPl9FY",
      "include_colab_link": true
    },
    "kernelspec": {
      "name": "python3",
      "display_name": "Python 3"
    },
    "language_info": {
      "name": "python"
    },
    "accelerator": "GPU"
  },
  "cells": [
    {
      "cell_type": "markdown",
      "metadata": {
        "id": "view-in-github",
        "colab_type": "text"
      },
      "source": [
        "<a href=\"https://colab.research.google.com/github/Sanket0412/Embedded-Text-Detection-in-Video/blob/main/Embedded_Text_Detection.ipynb\" target=\"_parent\"><img src=\"https://colab.research.google.com/assets/colab-badge.svg\" alt=\"Open In Colab\"/></a>"
      ]
    },
    {
      "cell_type": "code",
      "metadata": {
        "id": "on-QL5YkO-ms",
        "colab": {
          "base_uri": "https://localhost:8080/"
        },
        "outputId": "314ad901-2379-41e7-8c69-ec73ea04d005"
      },
      "source": [
        "!pip install pytesseract \n",
        "! apt install tesseract-ocr\n",
        "! apt install libtesseract-dev"
      ],
      "execution_count": 1,
      "outputs": [
        {
          "output_type": "stream",
          "text": [
            "Collecting pytesseract\n",
            "  Downloading https://files.pythonhosted.org/packages/a0/e6/a4e9fc8a93c1318540e8de6d8d4beb5749b7960388a7c7f27799fc2dd016/pytesseract-0.3.7.tar.gz\n",
            "Requirement already satisfied: Pillow in /usr/local/lib/python3.7/dist-packages (from pytesseract) (7.1.2)\n",
            "Building wheels for collected packages: pytesseract\n",
            "  Building wheel for pytesseract (setup.py) ... \u001b[?25l\u001b[?25hdone\n",
            "  Created wheel for pytesseract: filename=pytesseract-0.3.7-py2.py3-none-any.whl size=13945 sha256=cb15be68cb19d44a41b16b4acd17d8fce2e5f6880285ee8691db86342d9ab0a7\n",
            "  Stored in directory: /root/.cache/pip/wheels/81/20/7e/1dd0daad1575d5260916bb1e9781246430647adaef4b3ca3b3\n",
            "Successfully built pytesseract\n",
            "Installing collected packages: pytesseract\n",
            "Successfully installed pytesseract-0.3.7\n",
            "Reading package lists... Done\n",
            "Building dependency tree       \n",
            "Reading state information... Done\n",
            "The following package was automatically installed and is no longer required:\n",
            "  libnvidia-common-460\n",
            "Use 'apt autoremove' to remove it.\n",
            "The following additional packages will be installed:\n",
            "  tesseract-ocr-eng tesseract-ocr-osd\n",
            "The following NEW packages will be installed:\n",
            "  tesseract-ocr tesseract-ocr-eng tesseract-ocr-osd\n",
            "0 upgraded, 3 newly installed, 0 to remove and 34 not upgraded.\n",
            "Need to get 4,795 kB of archives.\n",
            "After this operation, 15.8 MB of additional disk space will be used.\n",
            "Get:1 http://archive.ubuntu.com/ubuntu bionic/universe amd64 tesseract-ocr-eng all 4.00~git24-0e00fe6-1.2 [1,588 kB]\n",
            "Get:2 http://archive.ubuntu.com/ubuntu bionic/universe amd64 tesseract-ocr-osd all 4.00~git24-0e00fe6-1.2 [2,989 kB]\n",
            "Get:3 http://archive.ubuntu.com/ubuntu bionic/universe amd64 tesseract-ocr amd64 4.00~git2288-10f4998a-2 [218 kB]\n",
            "Fetched 4,795 kB in 1s (5,453 kB/s)\n",
            "Selecting previously unselected package tesseract-ocr-eng.\n",
            "(Reading database ... 160706 files and directories currently installed.)\n",
            "Preparing to unpack .../tesseract-ocr-eng_4.00~git24-0e00fe6-1.2_all.deb ...\n",
            "Unpacking tesseract-ocr-eng (4.00~git24-0e00fe6-1.2) ...\n",
            "Selecting previously unselected package tesseract-ocr-osd.\n",
            "Preparing to unpack .../tesseract-ocr-osd_4.00~git24-0e00fe6-1.2_all.deb ...\n",
            "Unpacking tesseract-ocr-osd (4.00~git24-0e00fe6-1.2) ...\n",
            "Selecting previously unselected package tesseract-ocr.\n",
            "Preparing to unpack .../tesseract-ocr_4.00~git2288-10f4998a-2_amd64.deb ...\n",
            "Unpacking tesseract-ocr (4.00~git2288-10f4998a-2) ...\n",
            "Setting up tesseract-ocr-osd (4.00~git24-0e00fe6-1.2) ...\n",
            "Setting up tesseract-ocr-eng (4.00~git24-0e00fe6-1.2) ...\n",
            "Setting up tesseract-ocr (4.00~git2288-10f4998a-2) ...\n",
            "Processing triggers for man-db (2.8.3-2ubuntu0.1) ...\n",
            "Reading package lists... Done\n",
            "Building dependency tree       \n",
            "Reading state information... Done\n",
            "The following package was automatically installed and is no longer required:\n",
            "  libnvidia-common-460\n",
            "Use 'apt autoremove' to remove it.\n",
            "The following additional packages will be installed:\n",
            "  libleptonica-dev\n",
            "The following NEW packages will be installed:\n",
            "  libleptonica-dev libtesseract-dev\n",
            "0 upgraded, 2 newly installed, 0 to remove and 34 not upgraded.\n",
            "Need to get 2,755 kB of archives.\n",
            "After this operation, 13.8 MB of additional disk space will be used.\n",
            "Get:1 http://archive.ubuntu.com/ubuntu bionic/universe amd64 libleptonica-dev amd64 1.75.3-3 [1,308 kB]\n",
            "Get:2 http://archive.ubuntu.com/ubuntu bionic/universe amd64 libtesseract-dev amd64 4.00~git2288-10f4998a-2 [1,447 kB]\n",
            "Fetched 2,755 kB in 1s (3,339 kB/s)\n",
            "Selecting previously unselected package libleptonica-dev.\n",
            "(Reading database ... 160753 files and directories currently installed.)\n",
            "Preparing to unpack .../libleptonica-dev_1.75.3-3_amd64.deb ...\n",
            "Unpacking libleptonica-dev (1.75.3-3) ...\n",
            "Selecting previously unselected package libtesseract-dev.\n",
            "Preparing to unpack .../libtesseract-dev_4.00~git2288-10f4998a-2_amd64.deb ...\n",
            "Unpacking libtesseract-dev (4.00~git2288-10f4998a-2) ...\n",
            "Setting up libleptonica-dev (1.75.3-3) ...\n",
            "Setting up libtesseract-dev (4.00~git2288-10f4998a-2) ...\n"
          ],
          "name": "stdout"
        }
      ]
    },
    {
      "cell_type": "code",
      "metadata": {
        "id": "g7UawxTHOq7q"
      },
      "source": [
        "import cv2\n",
        "import numpy as np\n",
        "import pytesseract\n",
        "from google.colab.patches import cv2_imshow"
      ],
      "execution_count": 107,
      "outputs": []
    },
    {
      "cell_type": "code",
      "metadata": {
        "colab": {
          "base_uri": "https://localhost:8080/"
        },
        "id": "H74HvnEfdamn",
        "outputId": "8aa2f5a7-1169-40ec-dc5b-d2dd41bc21ad"
      },
      "source": [
        "from google.colab import drive\n",
        "drive.mount('/content/drive')"
      ],
      "execution_count": 3,
      "outputs": [
        {
          "output_type": "stream",
          "text": [
            "Mounted at /content/drive\n"
          ],
          "name": "stdout"
        }
      ]
    },
    {
      "cell_type": "code",
      "metadata": {
        "id": "5KnymRYbaMmu"
      },
      "source": [
        "# get grayscale image\n",
        "def get_grayscale(image):\n",
        "    return cv2.cvtColor(image, cv2.COLOR_BGR2GRAY)\n",
        "\n",
        "# noise removal\n",
        "def remove_noise(image):\n",
        "    return cv2.medianBlur(image,5)\n",
        " \n",
        "#thresholding\n",
        "def thresholding(image):\n",
        "    return cv2.threshold(image, 0, 255, cv2.THRESH_BINARY + cv2.THRESH_OTSU)[1]\n",
        "\n",
        "#dilation\n",
        "def dilate(image):\n",
        "    kernel = np.ones((5,5),np.uint8)\n",
        "    return cv2.dilate(image, kernel, iterations = 1)\n",
        "    \n",
        "#erosion\n",
        "def erode(image):\n",
        "    kernel = np.ones((5,5),np.uint8)\n",
        "    return cv2.erode(image, kernel, iterations = 1)\n",
        "\n",
        "#opening - erosion followed by dilation\n",
        "def opening(image):\n",
        "    kernel = np.ones((5,5),np.uint8)\n",
        "    return cv2.morphologyEx(image, cv2.MORPH_OPEN, kernel)\n",
        "\n",
        "#canny edge detection\n",
        "def canny(image):\n",
        "    return cv2.Canny(image, 100, 200)\n",
        "\n",
        "#skew correction\n",
        "def deskew(image):\n",
        "    coords = np.column_stack(np.where(image > 0))\n",
        "    angle = cv2.minAreaRect(coords)[-1]\n",
        "    if angle < -45:\n",
        "        angle = -(90 + angle)\n",
        "    else:\n",
        "        angle = -angle\n",
        "    (h, w) = image.shape[:2]\n",
        "    center = (w // 2, h // 2)\n",
        "    M = cv2.getRotationMatrix2D(center, angle, 1.0)\n",
        "    rotated = cv2.warpAffine(image, M, (w, h), flags=cv2.INTER_CUBIC, borderMode=cv2.BORDER_REPLICATE)\n",
        "    return rotated\n",
        "\n",
        "#template matching\n",
        "def match_template(image, template):\n",
        "    return cv2.matchTemplate(image, template, cv2.TM_CCOEFF_NORMED)"
      ],
      "execution_count": 37,
      "outputs": []
    },
    {
      "cell_type": "code",
      "metadata": {
        "id": "iPbp8e3ShNtn"
      },
      "source": [
        "def find_contours(dilated_img):\n",
        "  cnts = cv2.findContours(dilated_img, cv2.RETR_EXTERNAL, cv2.CHAIN_APPROX_SIMPLE)\n",
        "  cnts = cnts[0] if len(cnts) == 2 else cnts[1]\n",
        "  for c in cnts:\n",
        "      x,y,w,h = cv2.boundingRect(c)\n",
        "      ar = w / float(h)\n",
        "      if ar < 5:\n",
        "          cv2.drawContours(dilated_img, [c], -1, (0,0,0), -1)\n",
        "  return dilated_img"
      ],
      "execution_count": 77,
      "outputs": []
    },
    {
      "cell_type": "code",
      "metadata": {
        "id": "X2BG6vDKO7Dg"
      },
      "source": [
        "def text_detection1(img):\n",
        "    orig = img\n",
        "    image = img\n",
        "\n",
        "    gray = get_grayscale(image)\n",
        "    #img = opening(img)\n",
        "    img = thresholding(gray)\n",
        "    #img = canny(gray)\n",
        "    hsv = cv2.cvtColor(image, cv2.COLOR_BGR2HSV)\n",
        "    lower = np.array([0, 0, 218])\n",
        "    upper = np.array([157, 54, 255])\n",
        "    mask = cv2.inRange(hsv, lower, upper)\n",
        "\n",
        "    # Create horizontal kernel and dilate to connect text characters\n",
        "    kernel = cv2.getStructuringElement(cv2.MORPH_RECT, (5,3))\n",
        "    dilate1 = cv2.dilate(mask, kernel, iterations=10)\n",
        "    dilate2 = cv2.dilate(img, kernel, iterations=10)\n",
        "\n",
        "    # Find contours and filter using aspect ratio\n",
        "    # Remove non-text contours by filling in the contour\n",
        "    dilate1 = find_contours(dilate1)\n",
        "\n",
        "    #dilate2 = find_contours(dilate2)\n",
        "    # Detecting text on a masked image\n",
        "    data1 = pytesseract.image_to_string(mask, lang='eng',config='--psm 6')\n",
        "    \n",
        "    # Bitwise dilation and Inversion of the image\n",
        "    result2 = 255 - cv2.bitwise_and(dilate1, mask)\n",
        "\n",
        "    #Detecting text on the dilated and inversed image\n",
        "    data2 = pytesseract.image_to_string(result2, lang='eng',config='--psm 6')\n",
        "\n",
        "    # Bitwise dilation and Inversion of the image\n",
        "    result3 = img\n",
        "\n",
        "    data3 = pytesseract.image_to_string(result3, lang='eng',config='--psm6')\n",
        "    #cv2_imshow(mask)\n",
        "    #cv2_imshow(dilate)\n",
        "    #cv2_imshow(result1)\n",
        "    cv2_imshow(mask)\n",
        "    print('Text detected on the masked image:')\n",
        "    print(data1)\n",
        "    cv2_imshow(result2)\n",
        "    print('Text detected on the masked image after dilation and inversion:')\n",
        "    print(data2)\n",
        "    cv2_imshow(result3)\n",
        "    print('Text detected on the opening image after dilation and inversion:')\n",
        "    print(data3)\n",
        "    cv2.waitKey()"
      ],
      "execution_count": 110,
      "outputs": []
    },
    {
      "cell_type": "markdown",
      "metadata": {
        "id": "4hyfd41epO5T"
      },
      "source": [
        "## Text detection on a video"
      ]
    },
    {
      "cell_type": "code",
      "metadata": {
        "id": "SoD0FcdLPPLq"
      },
      "source": [
        "import numpy as np\n",
        "import cv2\n",
        "cap = cv2.VideoCapture('/content/drive/MyDrive/OffNoteLabsTask/trimmedRickRoll.mp4')\n",
        "#cap.set(cv2.CAP_PROP_FPS, 10000) \n",
        "i = 0;\n",
        "while(cap.isOpened()):\n",
        "    ret, frame = cap.read()\n",
        "    if ret == False:\n",
        "        break\n",
        "    i+=1\n",
        "    text_detection1(frame)\n",
        "    #cv2_imshow(frame)\n",
        "    #cv2.imwrite('RickRoll'+str(i)+'.jpg',frame)\n",
        "    if cv2.waitKey(2) & 0xFF == ord('q'):\n",
        "        break\n",
        "print(i)\n",
        "cap.release()\n",
        "cv2.destroyAllWindows()"
      ],
      "execution_count": null,
      "outputs": []
    },
    {
      "cell_type": "code",
      "metadata": {
        "id": "ZKN9En2r3okz"
      },
      "source": [
        "import numpy as np\n",
        "import cv2\n",
        "cap = cv2.VideoCapture('/content/drive/MyDrive/OffNoteLabsTask/trimmedNews.mp4')\n",
        "#cap.set(cv2.CAP_PROP_FPS, 10000) \n",
        "i = 0;\n",
        "while(cap.isOpened()):\n",
        "    ret, frame = cap.read()\n",
        "    if ret == False:\n",
        "        break\n",
        "    i+=1\n",
        "    text_detection1(frame)\n",
        "    #cv2_imshow(frame)\n",
        "    #cv2.imwrite('RickRoll'+str(i)+'.jpg',frame)\n",
        "    if cv2.waitKey(2) & 0xFF == ord('q'):\n",
        "        break\n",
        "print(i)\n",
        "cap.release()\n",
        "cv2.destroyAllWindows()"
      ],
      "execution_count": null,
      "outputs": []
    },
    {
      "cell_type": "markdown",
      "metadata": {
        "id": "ImkVFc56pVbD"
      },
      "source": [
        "## Text Detection on an image"
      ]
    },
    {
      "cell_type": "code",
      "metadata": {
        "id": "k1lJuWLOiXyN"
      },
      "source": [
        "img = cv2.imread('/content/drive/MyDrive/OffNoteLabsTask/img.jpg')\n",
        "cv2_imshow(img)\n",
        "text_detection1(img)"
      ],
      "execution_count": null,
      "outputs": []
    },
    {
      "cell_type": "code",
      "metadata": {
        "id": "brMaCRoW0xfi"
      },
      "source": [
        "img = cv2.imread('/content/drive/MyDrive/OffNoteLabsTask/news.JPG')\n",
        "cv2_imshow(img)\n",
        "text_detection1(img)"
      ],
      "execution_count": null,
      "outputs": []
    },
    {
      "cell_type": "code",
      "metadata": {
        "id": "jMu0OFQFjZle"
      },
      "source": [
        "img = cv2.imread('/content/drive/MyDrive/OffNoteLabsTask/sampleText.png')\n",
        "cv2_imshow(img)\n",
        "text_detection1(img)"
      ],
      "execution_count": null,
      "outputs": []
    },
    {
      "cell_type": "code",
      "metadata": {
        "id": "5Necg4q_lo50"
      },
      "source": [
        "img = cv2.imread('/content/drive/MyDrive/OffNoteLabsTask/sampleText3.jpg')\n",
        "cv2_imshow(img)\n",
        "text_detection1(img)"
      ],
      "execution_count": null,
      "outputs": []
    },
    {
      "cell_type": "code",
      "metadata": {
        "id": "VruOhtdu1tvX"
      },
      "source": [
        "img = cv2.imread('/content/drive/MyDrive/OffNoteLabsTask/sampleText4.jpg')\n",
        "cv2_imshow(img)\n",
        "text_detection1(img)"
      ],
      "execution_count": null,
      "outputs": []
    },
    {
      "cell_type": "code",
      "metadata": {
        "id": "SPAlS2Yb3WJa"
      },
      "source": [
        "img = cv2.imread('/content/drive/MyDrive/OffNoteLabsTask/words.jpg')\n",
        "cv2_imshow(img)\n",
        "text_detection1(img)"
      ],
      "execution_count": null,
      "outputs": []
    },
    {
      "cell_type": "code",
      "metadata": {
        "id": "NoY11ig33hE7"
      },
      "source": [
        ""
      ],
      "execution_count": null,
      "outputs": []
    }
  ]
}